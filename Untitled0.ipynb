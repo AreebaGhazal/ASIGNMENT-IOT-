{
  "nbformat": 4,
  "nbformat_minor": 0,
  "metadata": {
    "colab": {
      "name": "Untitled0.ipynb",
      "provenance": []
    },
    "kernelspec": {
      "name": "python3",
      "display_name": "Python 3"
    },
    "language_info": {
      "name": "python"
    }
  },
  "cells": [
    {
      "cell_type": "code",
      "source": [
        "list1 = [10, 21, 4, 45, 66, 93]\n",
        "i = 0        \n",
        "while(i < len(list1)):\n",
        "    if list1[i] % 2 != 0:\n",
        "        print(list1[i], end = \" \")\n",
        "    i += 1"
      ],
      "metadata": {
        "colab": {
          "base_uri": "https://localhost:8080/"
        },
        "id": "oCDcfCSE7njb",
        "outputId": "4caa0ee1-0598-4c89-acd8-cfd5ea53263f"
      },
      "execution_count": 12,
      "outputs": [
        {
          "output_type": "stream",
          "name": "stdout",
          "text": [
            "21 45 93 "
          ]
        }
      ]
    },
    {
      "cell_type": "code",
      "source": [
        "pythn program to reverse a list in two ways"
      ],
      "metadata": {
        "id": "M73tXMAj-z2S"
      },
      "execution_count": null,
      "outputs": []
    },
    {
      "cell_type": "code",
      "source": [
        "cities_list= ['lahore', 'multan', 'peshawar']\n",
        "cities_list.reverse()\n",
        "print ('reversed list' , cities_list)"
      ],
      "metadata": {
        "id": "m7Ng31Sd--Ow",
        "colab": {
          "base_uri": "https://localhost:8080/"
        },
        "outputId": "b8fae3c8-914d-4808-c907-c2d50d1f19c3"
      },
      "execution_count": 15,
      "outputs": [
        {
          "output_type": "stream",
          "name": "stdout",
          "text": [
            "reversed list ['peshawar', 'multan', 'lahore']\n"
          ]
        }
      ]
    },
    {
      "cell_type": "code",
      "source": [
        "sum of list"
      ],
      "metadata": {
        "id": "uHGSpAOaD_Qm"
      },
      "execution_count": null,
      "outputs": []
    },
    {
      "cell_type": "code",
      "source": [
        "num_list = [2, 2,1,1]\n",
        "total = 0\n",
        "for num in num_list:\n",
        "    total = total + num\n",
        "print(\"Sum of elements of list is\", total)"
      ],
      "metadata": {
        "colab": {
          "base_uri": "https://localhost:8080/"
        },
        "id": "yik3P5ZOEBWU",
        "outputId": "5bcbebbd-5728-4193-c9a9-1462b274a417"
      },
      "execution_count": 6,
      "outputs": [
        {
          "output_type": "stream",
          "name": "stdout",
          "text": [
            "Sum of elements of list is 6\n"
          ]
        }
      ]
    },
    {
      "cell_type": "code",
      "source": [
        "Question 5"
      ],
      "metadata": {
        "id": "U8_HJy-_FoBx"
      },
      "execution_count": null,
      "outputs": []
    },
    {
      "cell_type": "code",
      "source": [
        "list = [2, 4, 6, 8 ]\n",
        "list.sort()\n",
        "print(list[-2])"
      ],
      "metadata": {
        "colab": {
          "base_uri": "https://localhost:8080/"
        },
        "id": "2o83Et9uGZFM",
        "outputId": "20ff4bef-256b-49cb-de41-7c68ff8f7ee2"
      },
      "execution_count": 2,
      "outputs": [
        {
          "output_type": "stream",
          "name": "stdout",
          "text": [
            "6\n"
          ]
        }
      ]
    },
    {
      "cell_type": "code",
      "source": [
        "QUESTION NO 6"
      ],
      "metadata": {
        "id": "vlIfV0e1IYjh"
      },
      "execution_count": null,
      "outputs": []
    },
    {
      "cell_type": "code",
      "source": [
        "list = [2, 4, 6, 8, 10 ]\n",
        "list.reverse()\n",
        "print(list)"
      ],
      "metadata": {
        "colab": {
          "base_uri": "https://localhost:8080/"
        },
        "id": "j2P9GX4DHwv0",
        "outputId": "e3bd0b04-3494-4f56-ad6f-8e681517b984"
      },
      "execution_count": 18,
      "outputs": [
        {
          "output_type": "stream",
          "name": "stdout",
          "text": [
            "[10, 8, 6, 4, 2]\n"
          ]
        }
      ]
    },
    {
      "cell_type": "code",
      "source": [
        "Question no7\n"
      ],
      "metadata": {
        "id": "TS4BDyzBJ1QJ"
      },
      "execution_count": null,
      "outputs": []
    },
    {
      "cell_type": "code",
      "source": [
        "mylist = [\"a\", \"b\", \"b\", \"c\", \"a\"]\n",
        "mylist = sorted(set(mylist))\n",
        "print(mylist)"
      ],
      "metadata": {
        "colab": {
          "base_uri": "https://localhost:8080/"
        },
        "id": "BSct8VYTKJWj",
        "outputId": "2d3fef52-7a3c-4f96-ff85-25add41eff0f"
      },
      "execution_count": 19,
      "outputs": [
        {
          "output_type": "stream",
          "name": "stdout",
          "text": [
            "['a', 'b', 'c']\n"
          ]
        }
      ]
    },
    {
      "cell_type": "code",
      "source": [
        "Qustion no 10"
      ],
      "metadata": {
        "id": "Xk9JLXNlMnjC"
      },
      "execution_count": null,
      "outputs": []
    },
    {
      "cell_type": "code",
      "source": [
        "list1 = ['a','b', 'c', 'd' ]\n",
        "list2 = ['e','f']\n",
        "list3 = list1 + list2\n",
        "print(list3)  "
      ],
      "metadata": {
        "colab": {
          "base_uri": "https://localhost:8080/"
        },
        "id": "U3uqqyO5NtvO",
        "outputId": "83bd9c0b-414a-4508-ab25-2c459d2af3a6"
      },
      "execution_count": 11,
      "outputs": [
        {
          "output_type": "stream",
          "name": "stdout",
          "text": [
            "['a', 'b', 'c', 'd', 'e', 'f']\n"
          ]
        }
      ]
    }
  ]
}